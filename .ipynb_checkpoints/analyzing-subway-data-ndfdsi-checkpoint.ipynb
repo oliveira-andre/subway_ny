{
 "cells": [
  {
   "cell_type": "markdown",
   "metadata": {},
   "source": [
    "# Subway Data Analysis\n",
    "\n",
    "## Introduction\n",
    "\n",
    "O sistema de Ã´nibus e trens de Nova Iorque - o Metro Transit Authority - [fornece seus dados para download](http://web.mta.info/developers/developer-data-terms.html#data) atravÃ©s de  arquivos CSV. Dentre as informaÃ§Ãµes disponÃ­veis estÃ£o os **registros semanais de dados das catracas do metrÃ´**. \n",
    "\n",
    "\n",
    "Estes registros contÃ©m contagens cumulativas das entradas e saÃ­das, normalmente agrupadas em perÃ­odos de 4 horas, com dados adicionais que permitem identificar a estaÃ§Ã£o e catraca especÃ­fica correspondente a cada linha do arquivo. Neste projeto iremos utilizar um desses registros, mas nÃ£o precisa baixar nada agora! O primeiro exercÃ­cio serÃ¡ escrever um cÃ³digo Python para fazer isso por vocÃª :-)\n",
    "\n",
    "\n"
   ]
  },
  {
   "cell_type": "markdown",
   "metadata": {},
   "source": [
    "# Sobre este projeto\n",
    "\n",
    "Neste projeto vocÃª irÃ¡ aplicar todos os conhecimentos adquiridos neste primeiro mÃªs de curso, com tarefas bÃ¡sicas de aquisiÃ§Ã£o e limpeza de dados. No processo iremos descobrir informaÃ§Ãµes essenciais sobre os dados, utilizando o que foi aprendido no curso de estatÃ­stica. \n",
    "\n",
    "O objetivo deste projeto Ã© explorar a relaÃ§Ã£o entre os dados das catracas do metrÃ´ de Nova Iorque e o clima no dia da coleta. Para isso, alÃ©m dos dados do metrÃ´, precisaremos dos dados de clima da cidade de Nova Iorque. \n",
    "\n",
    "Os principais pontos que serÃ£o verificados neste trabalho:\n",
    "\n",
    "- Coleta de dados da internet\n",
    "- UtilizaÃ§Ã£o de estatÃ­stica para anÃ¡lise de dados\n",
    "- ManipulaÃ§Ã£o de dados e criaÃ§Ã£o de grÃ¡ficos simples com o `Pandas`\n",
    "\n",
    "*Como conseguir ajuda*: Sugerimos que busque apoio nos canais abaixo, na seguinte ordem de prioridade:\n",
    "\n",
    "| Tipo de dÃºvida\\Canais         \t| Google \t| FÃ³rum \t| Slack \t| Email \t|\n",
    "|-------------------------------\t|--------\t|-------\t|-------\t|-------\t|\n",
    "| ProgramaÃ§Ã£o Python e Pandas    \t| 1      \t| 2     \t| 3     \t|       \t|\n",
    "| Requisitos do projeto         \t|        \t| 1     \t| 2     \t| 3     \t|\n",
    "| Partes especÃ­ficas do Projeto \t|        \t| 1     \t| 2     \t| 3     \t|\n",
    "\n",
    "Os endereÃ§os dos canais sÃ£o:\n",
    "\n",
    "- FÃ³rum: https://discussions.udacity.com/c/ndfdsi-project\n",
    "- Slack: [udacity-br.slack.com](https://udacity-br.slack.com/messages/C5MT6E3E1)\n",
    "- Email: data-suporte@udacity.com\n",
    "\n",
    "**Espera-se que o estudante entregue este relatÃ³rio com:**\n",
    "\n",
    "- Todos os exercÃ­cios feitos, com atenÃ§Ã£o especial para os trechos de cÃ³digo a completar (sinalizados com `# your code here`), pois eles sÃ£o essenciais para que o cÃ³digo rode corretamente\n",
    "- O arquivo ipynb exportado como HTML\n",
    "\n",
    "Para entregar este projeto envie este `.ipynb` preenchido e o HTML, zipados, na pÃ¡gina correspondente da sala de aula."
   ]
  },
  {
   "cell_type": "markdown",
   "metadata": {},
   "source": [
    "# Sobre o dataset\n",
    "\n",
    "DescriÃ§Ã£o das colunas\n",
    "<pre>\n",
    "C/A,UNIT,SCP,STATION,LINENAME,DIVISION,DATE,TIME,DESC,ENTRIES,EXITS\n",
    "  \n",
    "C/A      = Agrupamento de catracas de que a catraca faz parte (_Control Area_)\n",
    "UNIT     = Cabine de controle associada Ã  estaÃ§Ã£o onde a catraca se encontra (_Remote Unit for a station_)\n",
    "SCP      = EndereÃ§o especÃ­fico da catraca (_Subunit Channel Position_)\n",
    "STATION  = Nome da estaÃ§Ã£o onde a catraca se encontra\n",
    "LINENAME = CÃ³digo representando todas linhas que passam na estaÃ§Ã£o*\n",
    "DIVISION = CÃ³digo representando a concessionÃ¡ria original da linha, antes da prefeitura assumir a gestÃ£o   \n",
    "DATE     = Representa a data (no formato MM-DD-YY) do evento de auditoria agendado\n",
    "TIME     = Representa o horÃ¡rio (hh:mm:ss) do evento de auditoria agendado\n",
    "DESc     = Descreve o tipo de evento de auditoria registrado:\n",
    "           1. \"REGULAR\" representando um evento de auditoria padrÃ£o, em que a contagem Ã© feita a cada 4 horas\n",
    "           2. \"RECOVR AUD\" significa que o valor especÃ­fico estava perdido, mas foi recuperado posteriormente \n",
    "           3. Diversos cÃ³digos sinalizam situaÃ§Ãµes em que auditorias sÃ£o mais frequentes devido a atividades de\n",
    "              planejamento ou soluÃ§Ã£o de problemas. \n",
    "ENTRIES  = A contagem cumulativa de entradas associadas Ã  catraca desde o Ãºltimo registro\n",
    "EXITS    = A contagem cumulativa de saÃ­das associadas Ã  catraca desde o Ãºltimo registro\n",
    "\n",
    "*  Normalmente as linhas sÃ£o representadas por um caractere. LINENAME 456NQR significa que os trens 4, 5, 6, N, Q e R passam pela estaÃ§Ã£o.\n",
    "</pre>"
   ]
  },
  {
   "cell_type": "markdown",
   "metadata": {},
   "source": [
    "# Lembretes\n",
    "\n",
    "Antes de comeÃ§armos, alguns lembretes devem ter em mente ao usar os notebooks iPython:\n",
    "\n",
    "- Lembre-se de que vocÃª pode ver do lado esquerdo de uma cÃ©lula de cÃ³digo quando foi executado pela Ãºltima vez se houver um nÃºmero dentro das chaves.\n",
    "- Quando vocÃª inicia uma nova sessÃ£o do notebook, certifique-se de executar todas as cÃ©lulas atÃ© o ponto em que vocÃª deixou a Ãºltima vez. Mesmo que a saÃ­da ainda seja visÃ­vel a partir de quando vocÃª executou as cÃ©lulas em sua sessÃ£o anterior, o kernel comeÃ§a em um estado novo, entÃ£o vocÃª precisarÃ¡ recarregar os dados, etc. em uma nova sessÃ£o.\n",
    "- O ponto anterior Ã© Ãºtil para ter em mente se suas respostas nÃ£o correspondem ao que Ã© esperado nos questionÃ¡rios da aula. Tente recarregar os dados e execute todas as etapas de processamento um a um para garantir que vocÃª esteja trabalhando com as mesmas variÃ¡veis e dados que estÃ£o em cada fase do questionÃ¡rio."
   ]
  },
  {
   "cell_type": "markdown",
   "metadata": {},
   "source": [
    "## SeÃ§Ã£o 1 - Coleta de Dados\n",
    "\n",
    "### *Exercicio 1.1*\n",
    "\n",
    "MÃ£os a obra!! Agora Ã© sua vez de coletar os dados. Escreva abaixo um cÃ³digo python que acesse o link http://web.mta.info/developers/turnstile.html e baixe os arquivos do mÃªs de junho de 2017. O arquivo deverÃ¡ ser salvo com o nome turnstile_170610.txt onde 10/06/17 Ã© a data do arquivo.\n",
    "\n",
    "<blockquote>\n",
    "    <p>Caso o site esteja fora do ar, use essa url:</p>\n",
    "    <p>https://s3.amazonaws.com/video.udacity-data.com/topher/2018/November/5bf32290_turnstile/turnstile.html</p>\n",
    "</blockquote>\n",
    "\n",
    "Abaixo seguem alguns comandos que poderÃ£o te ajudar:\n",
    "\n",
    "Utilize a biblioteca **urllib** para abrir e resgatar uma pÃ¡gina da web. Utilize o comando abaixo onde **url** serÃ¡ o caminho da pÃ¡gina da web onde se encontra o arquivo:\n",
    "\n",
    "```python\n",
    "u = urllib.urlopen(url)\n",
    "html = u.read()\n",
    "```\n",
    "\n",
    "Utilize a biblioteca **BeautifulSoup** para procurar na pÃ¡gina pelo link do arquivo que deseja baixar. Utilize o comando abaixo para criar o seu objeto *soup* e procurar por todas as tags 'a'no documento:\n",
    " \n",
    " \n",
    "```python\n",
    "soup = BeautifulSoup(html, \"html.parser\")\n",
    "links = soup.find_all('a')\n",
    "```\n",
    "\n",
    "Uma dica para baixar apenas os arquivos do mÃªs de junho Ã© verificar a data no nome do arquivo. Por exemplo, para baixar o arquivo do dia 17/06/2017 verifique se o link termina com *\"turnstile_170610.txt\"*. Se nÃ£o fizer isso vocÃª baixarÃ¡ todos os arquivos da pÃ¡gina. Para fazer isso utilize o comando conforme abaixo:\n",
    "\n",
    "```python\n",
    "if '1706' in link.get('href'):\n",
    "```\n",
    "\n",
    "E a dica final Ã© utilizar o comando abaixo para fazer o download do arquivo txt:\n",
    "\n",
    "```python\n",
    "urllib.urlretrieve(link_do_arquivo, filename)\n",
    "```\n",
    "\n",
    "Lembre-se, primeiro, carregue todos os pacotes e funÃ§Ãµes que vocÃª estarÃ¡ usando em sua anÃ¡lise."
   ]
  },
  {
   "cell_type": "code",
   "execution_count": 37,
   "metadata": {},
   "outputs": [],
   "source": [
    "import urllib\n",
    "from bs4 import BeautifulSoup\n",
    "\n",
    "#your code here\n",
    "url = \"https://s3.amazonaws.com/video.udacity-data.com/topher/2018/November/5bf32290_turnstile/turnstile.html\"\n",
    "u = urllib.request.urlopen(url)\n",
    "html = u.read()\n",
    "soup = BeautifulSoup(html, \"html.parser\")\n",
    "a_tags = soup.find_all('a',href=True)\n",
    "\n",
    "for a_tag in a_tags:\n",
    "    if '1706' in a_tag.get('href'):\n",
    "        link = a_tag.get('href')\n",
    "        output = \"output.csv\"\n",
    "        urllib.request.urlretrieve(link, output)"
   ]
  },
  {
   "cell_type": "markdown",
   "metadata": {},
   "source": [
    "### *Exercicio 1.2*\n",
    "\n",
    "Escreva uma funÃ§Ã£o que pegue a lista de nomes dos arquivos que vocÃª baixou no exercicio 1.1 e consolide-os em um Ãºnico arquivo. Deve existir apenas uma linha de cabeÃ§alho no arquivo de saida. \n",
    "\n",
    "Por exemplo, se o arquivo_1 tiver:\n",
    "linha 1...\n",
    "linha 2...\n",
    "\n",
    "e o outro arquivo, arquivo_2 tiver:\n",
    "linha 3...\n",
    "linha 4...\n",
    "linha 5...\n",
    "\n",
    "Devemos combinar o arquivo_1 com arquivo_2 em um arquivo mestre conforme abaixo:\n",
    "\n",
    "'C/A, UNIT, SCP, DATEn, TIMEn, DESCn, ENTRIESn, EXITSn'\n",
    "linha 1...\n",
    "linha 2...\n",
    "linha 3...\n",
    "linha 4...\n",
    "linha 5...\n",
    "\n",
    "**OBS:** Note que algumas colunas foram descartadas!"
   ]
  },
  {
   "cell_type": "code",
   "execution_count": 39,
   "metadata": {},
   "outputs": [],
   "source": [
    "master_file = \"master_turnstile_file.csv\"\n",
    "def create_master_turnstile_file(output, master_file):\n",
    "    with open(master_file, 'w') as master_file:\n",
    "        master_file.write('C/A,UNIT,SCP,DATEn,TIMEn,DESCn,ENTRIESn,EXITSn\\n')"
   ]
  },
  {
   "cell_type": "markdown",
   "metadata": {},
   "source": [
    "### *Exercicio 1.3*\n",
    "\n",
    "Neste exercÃ­cio, escreva um funÃ§Ã£o que leia o master_file criado no exercicio anterior e carregue-o em um pandas dataframe. Esta funÃ§Ã£o deve filtrar para que o dataframe possua apenas linhas onde a coluna \"DESCn\" possua o valor \"Regular\".\n",
    "\n",
    "Por exemplo, se o data frame do pandas estiver conforme abaixo:\n",
    "    \n",
    "    ,C/A,UNIT,SCP,DATEn,TIMEn,DESCn,ENTRIESn,EXITSn\n",
    "    0,A002,R051,02-00-00,05-01-11,00:00:00,REGULAR,3144312,1088151\n",
    "    1,A002,R051,02-00-00,05-01-11,04:00:00,DOOR,3144335,1088159\n",
    "    2,A002,R051,02-00-00,05-01-11,08:00:00,REGULAR,3144353,1088177\n",
    "    3,A002,R051,02-00-00,05-01-11,12:00:00,DOOR,3144424,1088231\n",
    "\n",
    "O dataframe deverÃ¡ ficar conforme abaixo depois de filtrar apenas as linhas onde a coluna DESCn possua o valor REGULAR:\n",
    "\n",
    "    0,A002,R051,02-00-00,05-01-11,00:00:00,REGULAR,3144312,1088151\n",
    "    2,A002,R051,02-00-00,05-01-11,08:00:00,REGULAR,3144353,1088177\n"
   ]
  },
  {
   "cell_type": "code",
   "execution_count": null,
   "metadata": {
    "collapsed": true
   },
   "outputs": [],
   "source": [
    "import pandas\n",
    "\n",
    "def filter_by_regular(filename):\n",
    "    \n",
    "    turnstile_data = # your code here\n",
    "    # more of your code here\n",
    "    return turnstile_data"
   ]
  },
  {
   "cell_type": "markdown",
   "metadata": {},
   "source": [
    "### *Exercicio 1.4*\n",
    "\n",
    "\n",
    "Os dados do metrÃ´ de NY possui dados cumulativos de entradas e saidas por linha. Assuma que vocÃª possui um dataframe chamado df que contÃ©m apenas linhas para uma catraca em particular (unico SCP, C/A, e UNIT). A funÃ§Ã£o abaixo deve alterar essas entradas cumulativas para a contagem de entradas desde a Ãºltima leitura (entradas desde a Ãºltima linha do dataframe).\n",
    "\n",
    "Mais especificamente, vocÃª deverÃ¡ fazer duas coisas:\n",
    "\n",
    "1. Criar uma nova coluna chamada ENTRIESn_hourly\n",
    "\n",
    "2. Inserir nessa coluna a diferenÃ§a entre ENTRIESn da linha atual e a da linha anterior. Se a linha possuir alguma NAN, preencha/substitua por 1.\n",
    "\n",
    "Dica: as funÃ§Ãµes do pandas shift() e fillna() pode ser Ãºteis nesse exercicio.\n",
    "\n",
    "Abaixo tem um exemplo de como seu dataframe deve ficar ao final desse exercicio:\n",
    "\n",
    "           C/A  UNIT       SCP     DATEn     TIMEn    DESCn  ENTRIESn    EXITSn  ENTRIESn_hourly\n",
    "    0     A002  R051  02-00-00  05-01-11  00:00:00  REGULAR   3144312   1088151                1\n",
    "    1     A002  R051  02-00-00  05-01-11  04:00:00  REGULAR   3144335   1088159               23\n",
    "    2     A002  R051  02-00-00  05-01-11  08:00:00  REGULAR   3144353   1088177               18\n",
    "    3     A002  R051  02-00-00  05-01-11  12:00:00  REGULAR   3144424   1088231               71\n",
    "    4     A002  R051  02-00-00  05-01-11  16:00:00  REGULAR   3144594   1088275              170\n",
    "    5     A002  R051  02-00-00  05-01-11  20:00:00  REGULAR   3144808   1088317              214\n",
    "    6     A002  R051  02-00-00  05-02-11  00:00:00  REGULAR   3144895   1088328               87\n",
    "    7     A002  R051  02-00-00  05-02-11  04:00:00  REGULAR   3144905   1088331               10\n",
    "    8     A002  R051  02-00-00  05-02-11  08:00:00  REGULAR   3144941   1088420               36\n",
    "    9     A002  R051  02-00-00  05-02-11  12:00:00  REGULAR   3145094   1088753              153\n",
    "    10    A002  R051  02-00-00  05-02-11  16:00:00  REGULAR   3145337   1088823              243"
   ]
  },
  {
   "cell_type": "code",
   "execution_count": null,
   "metadata": {
    "collapsed": true
   },
   "outputs": [],
   "source": [
    "import pandas\n",
    "\n",
    "def get_hourly_entries(df):\n",
    "    \n",
    "    \n",
    "    #your code here\n",
    "    return df"
   ]
  },
  {
   "cell_type": "markdown",
   "metadata": {},
   "source": [
    "### *Exercicio 1.5*\n",
    "\n",
    "FaÃ§a o mesmo do exercicio anterior mas agora considerando as saidas, coluna EXITSn.\n",
    "Para isso crie uma coluna chamada de EXITSn_hourly e insira a diferenÃ§a entre a coluna EXITSn da linha atual versus a linha anterior. Se tiver algum NaN, preencha/substitua por 0.\n",
    "\n"
   ]
  },
  {
   "cell_type": "code",
   "execution_count": null,
   "metadata": {
    "collapsed": true
   },
   "outputs": [],
   "source": [
    "import pandas\n",
    "\n",
    "def get_hourly_exits(df):\n",
    "    \n",
    "    #your code here\n",
    "    return df"
   ]
  },
  {
   "cell_type": "markdown",
   "metadata": {},
   "source": [
    "### *Exercicio 1.6*\n",
    "\n",
    "Dado uma variÃ¡vel de entrada que representa o tempo no formato de:\n",
    "Â Â Â Â  \"00:00:00\" (hora: minutos: segundos)\n",
    "Â Â Â Â \n",
    "Escreva uma funÃ§Ã£o para extrair a parte da hora do tempo variÃ¡vel de entrada\n",
    "E devolva-o como um nÃºmero inteiro. Por exemplo:\n",
    "Â Â Â Â Â Â Â Â  \n",
    "         1) se a hora for 00, seu cÃ³digo deve retornar 0\n",
    "Â Â Â Â Â Â Â Â  2) se a hora for 01, seu cÃ³digo deve retornar 1\n",
    "Â Â Â Â Â Â Â Â  3) se a hora for 21, seu cÃ³digo deve retornar 21\n",
    "Â Â Â Â Â Â Â Â \n",
    "Por favor, devolva a hora como um nÃºmero inteiro.\n"
   ]
  },
  {
   "cell_type": "code",
   "execution_count": null,
   "metadata": {
    "collapsed": true
   },
   "outputs": [],
   "source": [
    "def time_to_hour(time):\n",
    "    \n",
    "    hour = # your code here\n",
    "    return hour"
   ]
  },
  {
   "cell_type": "markdown",
   "metadata": {},
   "source": [
    "## Exercicio 2 - AnÃ¡lise dos dados\n",
    "\n",
    "### *Exercicio 2.1*\n",
    "\n",
    "Para verificar a relaÃ§Ã£o entre o movimento do metrÃ´ e o clima, precisaremos complementar os dados do arquivo jÃ¡ baixado com os dados do clima.\n",
    "NÃ³s complementamos para vocÃª este arquivo com os dados de clima de Nova Iorque  e disponibilizamos na Ã¡rea de materiais do projeto. VocÃª pode acessa-lo pelo link: https://s3.amazonaws.com/content.udacity-data.com/courses/ud359/turnstile_data_master_with_weather.csv\n",
    "\n",
    "Agora que temos nossos dados em um arquivo csv, escreva um cÃ³digo python que leia este arquivo e salve-o em um data frame do pandas. \n",
    "\n",
    "Dica: \n",
    "\n",
    "Utilize o comando abaixo para ler o arquivo:\n",
    "\n",
    "```python\n",
    "pd.read_csv('output_list.txt', sep=\",\")\n",
    "```\n",
    "\n"
   ]
  },
  {
   "cell_type": "code",
   "execution_count": 2,
   "metadata": {},
   "outputs": [],
   "source": [
    "import pandas as pd\n",
    "\n",
    "filename = \"turnstile_data_master_with_weather.csv\"\n",
    "\n",
    "\n",
    "#your code here"
   ]
  },
  {
   "cell_type": "markdown",
   "metadata": {},
   "source": [
    "### *Exercicio 2.2*\n",
    "\n",
    "Agora crie uma funÃ§Ã£o que calcule a quantidade de dias chuvosos, para isso retorne a contagem do numero de dias onde a coluna *\"rain\"* Ã© igual a 1.\n",
    "\n",
    "Dica: VocÃª tambÃ©m pode achar que a interpretaÃ§Ã£o de nÃºmeros como nÃºmeros inteiros ou float pode nÃ£o\n",
    "Â Â Â Â  funcionar inicialmente. Para contornar esta questÃ£o, pode ser Ãºtil converter\n",
    "Â Â Â Â  esses nÃºmeros para nÃºmeros inteiros. Isso pode ser feito escrevendo cast (coluna como inteiro).\n",
    "Â Â Â Â  EntÃ£o, por exemplo, se querÃ­amos lanÃ§ar a coluna maxtempi como um nÃºmero inteiro, nÃ³s devemos\n",
    "Â Â Â Â  escrever algo como cast (maxtempi as integer) = 76, em oposiÃ§Ã£o a simplesmente\n",
    "Â Â Â Â  onde maxtempi = 76."
   ]
  },
  {
   "cell_type": "code",
   "execution_count": 6,
   "metadata": {},
   "outputs": [],
   "source": [
    "\n",
    "def num_rainy_days(df):\n",
    "\n",
    "    \n",
    "\n",
    "\n",
    "    #your code here\n",
    "    return"
   ]
  },
  {
   "cell_type": "markdown",
   "metadata": {},
   "source": [
    "### *Exercicio 2.3*\n",
    "\n",
    "Calcule se estava nebuloso ou nÃ£o (0 ou 1) e a temperatura mÃ¡xima para fog (isto Ã©, a temperatura mÃ¡xima \n",
    "Â Â Â Â  para dias nebulosos)."
   ]
  },
  {
   "cell_type": "code",
   "execution_count": 8,
   "metadata": {},
   "outputs": [],
   "source": [
    "\n",
    "def max_temp_aggregate_by_fog(df):\n",
    "    \n",
    "    #your code here \n",
    "    return\n",
    "    \n",
    "\n"
   ]
  },
  {
   "cell_type": "markdown",
   "metadata": {},
   "source": [
    "### *Exercicio 2.4\n",
    "\n",
    "Calcule agora a mÃ©dia de 'meantempi' nos dias que sÃ£o sÃ¡bado ou domingo (finais de semana):"
   ]
  },
  {
   "cell_type": "code",
   "execution_count": null,
   "metadata": {
    "collapsed": true
   },
   "outputs": [],
   "source": [
    "def avg_weekend_temperature(filename):\n",
    "  \n",
    "    mean_temp_weekends = \n",
    "    \n",
    "    return mean_temp_weekends"
   ]
  },
  {
   "cell_type": "markdown",
   "metadata": {},
   "source": [
    "### *Exercicio 2.5\n",
    "\n",
    "Calcule a mÃ©dia da temperatura mÃ­nima 'mintempi' nos dias chuvosos onde da temperatura mÃ­nima foi maior que do 55 graus:"
   ]
  },
  {
   "cell_type": "code",
   "execution_count": null,
   "metadata": {
    "collapsed": true
   },
   "outputs": [],
   "source": [
    "def avg_min_temperature(filename):\n",
    "\n",
    "    avg_min_temp_rainy = \n",
    "    \n",
    "    return avg_min_temp_rainy"
   ]
  },
  {
   "cell_type": "markdown",
   "metadata": {},
   "source": [
    "### *Exercicio 2.6\n",
    "\n",
    "Antes de realizar qualquer anÃ¡lise, pode ser Ãºtil olhar para os dados que esperamos analisar. Mais especificamente, vamos examinR as entradas por hora em nossos dados do metrÃ´ de Nova York para determinar a distribuiÃ§Ã£o dos dados. Estes dados sÃ£o armazenados na coluna ['ENTRIESn_hourly'].\n",
    "Â Â Â Â \n",
    "Trace dois histogramas nos mesmos eixos para mostrar as entradas quando esta chovendo vs quando nÃ£o estÃ¡ chovendo. \n",
    "Abaixo estÃ¡ um exemplo sobre como traÃ§ar histogramas com pandas e matplotlib:\n",
    "Â Â Â Â  \n",
    "```python\n",
    "Turnstile_weather ['column_to_graph']. Hist ()\n",
    "```   \n",
    "    "
   ]
  },
  {
   "cell_type": "code",
   "execution_count": null,
   "metadata": {
    "collapsed": true
   },
   "outputs": [],
   "source": [
    "import numpy as np\n",
    "import pandas\n",
    "import matplotlib.pyplot as plt\n",
    "\n",
    "def entries_histogram(turnstile_weather):\n",
    "    \n",
    "    \n",
    "    \n",
    "    plt.figure()\n",
    "    turnstile_weather['...'] # your code here to plot a historgram for hourly entries when it is raining\n",
    "    turnstile_weather['...'] # your code here to plot a histogram for hourly entries when it is not raining\n",
    "    return plt\n"
   ]
  },
  {
   "cell_type": "markdown",
   "metadata": {},
   "source": [
    "### *Exercicio 2.7\n",
    "\n",
    "Os dados que acabou de plotar que tipo de ditribuiÃ§Ã£o? Existe diferenÃ§a na distribuiÃ§Ã£o entre dias chuvosos e nÃ£o chuvosos?"
   ]
  },
  {
   "cell_type": "markdown",
   "metadata": {},
   "source": [
    "** Resposta **: Substitua este texto pela sua resposta!"
   ]
  },
  {
   "cell_type": "markdown",
   "metadata": {},
   "source": [
    "### *Exercicio 2.8\n",
    "\n",
    "Construa uma funÃ§Ã£o que que retorne:\n",
    "\n",
    "1. A mÃ©dia das entradas com chuva\n",
    "2. A mÃ©dia das entradas sem chuva\n",
    "\n",
    "\n"
   ]
  },
  {
   "cell_type": "code",
   "execution_count": null,
   "metadata": {
    "collapsed": true
   },
   "outputs": [],
   "source": [
    "import numpy as np\n",
    "\n",
    "import pandas\n",
    "\n",
    "def means(turnstile_weather):\n",
    "    \n",
    "    \n",
    "    ### YOUR CODE HERE ###\n",
    "    \n",
    "    return with_rain_mean, without_rain_mean, p # leave this line for the grader"
   ]
  },
  {
   "cell_type": "markdown",
   "metadata": {},
   "source": [
    "Responda as perguntas abaixo de acordo com a saida das suas funÃ§Ãµes:\n",
    "\n",
    "1. Qual a mÃ©dia das entradas com chuva?\n",
    "2. Qual a mÃ©dia das entradas sem chuva?\n"
   ]
  },
  {
   "cell_type": "markdown",
   "metadata": {},
   "source": [
    "** Resposta **: Substitua este texto pela sua resposta!"
   ]
  },
  {
   "cell_type": "markdown",
   "metadata": {},
   "source": [
    "## Exercicio 3 - Map Reduce\n",
    "\n",
    "### *Exercicio 3.1*\n",
    "\n",
    "A entrada para esse exercÃ­cio e o mesmo arquivo da seÃ§Ã£o anterior (Exercicio 2). VocÃª pode baixar o arquivo neste link:\n",
    "\n",
    " https://s3.amazonaws.com/content.udacity-data.com/courses/ud359/turnstile_data_master_with_weather.csv\n",
    "\n",
    "Varmos criar um mapeador agora. Para cada linha de entrada, a saÃ­da do mapeador deve IMPRIMIR (nÃ£o retornar) a UNIT como uma chave e o nÃºmero de ENTRIESn_hourly como o valor. Separe a chave e o valor por uma guia. Por exemplo: 'R002 \\ t105105.0'\n",
    "\n",
    "Exporte seu mapeador em um arquivo chamado mapper_result.txt e envie esse arquivo juntamente com a sua submissÃ£o. O cÃ³digo para exportar seu mapeador jÃ¡ estÃ¡ escrito no cÃ³digo abaixo.\n",
    "\n",
    "\n"
   ]
  },
  {
   "cell_type": "code",
   "execution_count": null,
   "metadata": {
    "collapsed": true
   },
   "outputs": [],
   "source": [
    "import sys\n",
    "\n",
    "def mapper():\n",
    "    \n",
    "\n",
    "    for line in sys.stdin:\n",
    "        # your code here\n",
    "\n",
    "\n",
    "mapper()\n",
    "sys.stdin = open('turnstile_data_master_with_weather.csv')\n",
    "sys.stdout = open('mapper_result.txt', 'w')"
   ]
  },
  {
   "cell_type": "markdown",
   "metadata": {},
   "source": [
    "### *Exercicio 3.2*\n",
    "\n",
    "Agora crie o redutor. Dado o resultado do mapeador do exercicio anterior, o redutor deve imprimir(NÃ£o retornar) uma linha por UNIT, juntamente com o nÃºmero total de ENTRIESn_hourly.Ao longo de maio (que Ã© a duraÃ§Ã£o dos nossos dados), separados por uma guia. Um exemplo de linha de saÃ­da do redutor pode ser assim: 'R001 \\ t500625.0'\n",
    "\n",
    "VocÃª pode assumir que a entrada para o redutor estÃ¡ ordenada de tal forma que todas as linhas correspondentes a uma unidade particular sÃ£o agrupados. No entanto a saida do redutor terÃ¡ repetiÃ§Ã£o pois existem lojas que aparecem em locais diferentes dos arquivos.\n",
    "\n",
    "Exporte seu redutor em um arquivo chamado reducer_result.txt e envie esse arquivo juntamente com a sua submissÃ£o."
   ]
  },
  {
   "cell_type": "code",
   "execution_count": null,
   "metadata": {
    "collapsed": true
   },
   "outputs": [],
   "source": [
    "def reducer():\n",
    "    \n",
    "\n",
    "    for line in sys.stdin:\n",
    "        # your code here\n",
    "\n",
    "        \n",
    "reducer()\n"
   ]
  }
 ],
 "metadata": {
  "celltoolbar": "Edit Metadata",
  "kernelspec": {
   "display_name": "Python 3",
   "language": "python",
   "name": "python3"
  },
  "language_info": {
   "codemirror_mode": {
    "name": "ipython",
    "version": 3
   },
   "file_extension": ".py",
   "mimetype": "text/x-python",
   "name": "python",
   "nbconvert_exporter": "python",
   "pygments_lexer": "ipython3",
   "version": "3.6.6"
  }
 },
 "nbformat": 4,
 "nbformat_minor": 2
}
